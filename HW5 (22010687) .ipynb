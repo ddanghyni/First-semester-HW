{
 "cells": [
  {
   "cell_type": "markdown",
   "id": "c2d290f5",
   "metadata": {},
   "source": [
    "# ```numpy``` 연습\n",
    "\n",
    "예를 들어 다음과 같은 2차원 행렬이 있다고 하자."
   ]
  },
  {
   "cell_type": "code",
   "execution_count": 1,
   "id": "78624a55",
   "metadata": {
    "scrolled": true
   },
   "outputs": [
    {
     "data": {
      "text/plain": [
       "array([[ 0,  1,  2,  3,  4],\n",
       "       [ 5,  6,  7,  8,  9],\n",
       "       [10, 11, 12, 13, 14],\n",
       "       [15, 16, 17, 18, 19],\n",
       "       [20, 21, 22, 23, 24]])"
      ]
     },
     "execution_count": 1,
     "metadata": {},
     "output_type": "execute_result"
    }
   ],
   "source": [
    "import numpy as np\n",
    "M = np.arange(25).reshape(5,5)\n",
    "M"
   ]
  },
  {
   "cell_type": "markdown",
   "id": "b81ba6d0",
   "metadata": {},
   "source": [
    "#### 1.```M```의 행의 수와 열의 수를 구하는 코드를 작성하고, 각각 ```n```과 ```m```이라 하자."
   ]
  },
  {
   "cell_type": "code",
   "execution_count": 2,
   "id": "8830bc8e",
   "metadata": {
    "jupyter": {
     "source_hidden": true
    },
    "scrolled": true,
    "tags": []
   },
   "outputs": [
    {
     "name": "stdout",
     "output_type": "stream",
     "text": [
      "row: 5\n",
      "column: 5\n"
     ]
    }
   ],
   "source": [
    "n = M.shape[0] #행의 수\n",
    "m = M.shape[1] #열의 수\n",
    "print(\"row:\",n)\n",
    "print(\"column:\",m)"
   ]
  },
  {
   "cell_type": "markdown",
   "id": "636de499",
   "metadata": {},
   "source": [
    "#### 2. 다음 각각을 수행할 수 있는 코드들을 작성하라. 위에서 정의한 ```n```과 ```m```을 이용하고, 각 결과는 1차원 array로 하라\n",
    "\n"
   ]
  },
  {
   "cell_type": "markdown",
   "id": "2cf7ab7e",
   "metadata": {},
   "source": [
    "* ```M```의 첫번째 행(즉, 행 index는 0)을 선택하는 코드"
   ]
  },
  {
   "cell_type": "code",
   "execution_count": 3,
   "id": "0d777fe6",
   "metadata": {
    "scrolled": true
   },
   "outputs": [
    {
     "data": {
      "text/plain": [
       "array([0, 1, 2, 3, 4])"
      ]
     },
     "execution_count": 3,
     "metadata": {},
     "output_type": "execute_result"
    }
   ],
   "source": [
    "A = M[0, 0:m]\n",
    "A"
   ]
  },
  {
   "cell_type": "markdown",
   "id": "905baf81",
   "metadata": {},
   "source": [
    "* ```M```의 마지막 열의 두번째 행부터 마지막 n-1번째 행까지 선택하는 코드, 즉, 위 예제에서는 ```9, 14, 19```를 선택할 수 있어야 함."
   ]
  },
  {
   "cell_type": "code",
   "execution_count": 4,
   "id": "510e3d4d",
   "metadata": {},
   "outputs": [
    {
     "data": {
      "text/plain": [
       "array([ 9, 14, 19])"
      ]
     },
     "execution_count": 4,
     "metadata": {},
     "output_type": "execute_result"
    }
   ],
   "source": [
    "B = M[1:n-1,m-1]\n",
    "B"
   ]
  },
  {
   "cell_type": "markdown",
   "id": "1617c7c6",
   "metadata": {},
   "source": [
    "* ```M```의 마지막 행을 역순으로 선택하는 코드. 즉, 위 예제에서는 ```24, 23, 22, 21, 20```"
   ]
  },
  {
   "cell_type": "code",
   "execution_count": 5,
   "id": "413ce140",
   "metadata": {},
   "outputs": [
    {
     "data": {
      "text/plain": [
       "array([24, 23, 22, 21, 20])"
      ]
     },
     "execution_count": 5,
     "metadata": {},
     "output_type": "execute_result"
    }
   ],
   "source": [
    "a = M[n-1,0:m]\n",
    "C = a[::-1]\n",
    "C"
   ]
  },
  {
   "cell_type": "markdown",
   "id": "c861979a",
   "metadata": {},
   "source": [
    "* ```M```의 첫번째 열을 마지막 n-1번쨰 행에서 두번째 행까지 선택하는 코드. 즉, 위 예제에서는 ```15, 10, 5```"
   ]
  },
  {
   "cell_type": "code",
   "execution_count": 6,
   "id": "79256487",
   "metadata": {},
   "outputs": [
    {
     "data": {
      "text/plain": [
       "array([15, 10,  5])"
      ]
     },
     "execution_count": 6,
     "metadata": {},
     "output_type": "execute_result"
    }
   ],
   "source": [
    "a = M[1:n-1,0]\n",
    "D = a[::-1]\n",
    "D"
   ]
  },
  {
   "cell_type": "markdown",
   "id": "2677697b",
   "metadata": {},
   "source": [
    "#### 3.위에서 선택한 array들을 ```np.r_```를 이용하여 하나로 만들라. 즉, 결과는 1차원 array로 ```[0, 1, 2, 3, 4, 9, 14, 19, 24, 23, 22, 21, 20, 15, 10, 5]```이어야 한다."
   ]
  },
  {
   "cell_type": "code",
   "execution_count": 7,
   "id": "e2fba997",
   "metadata": {},
   "outputs": [
    {
     "data": {
      "text/plain": [
       "array([ 0,  1,  2,  3,  4,  9, 14, 19, 24, 23, 22, 21, 20, 15, 10,  5])"
      ]
     },
     "execution_count": 7,
     "metadata": {},
     "output_type": "execute_result"
    }
   ],
   "source": [
    "F = np.r_[A, B, C, D]\n",
    "F"
   ]
  },
  {
   "cell_type": "markdown",
   "id": "948776cf",
   "metadata": {},
   "source": [
    "#### 4. 원래의 ```M```에서 3번에서 선택한 값들을 제외하고 남은 부분을 선택하는 코드를 만들라. 즉, 결과는 ```[[6, 7, 8], [11, 12, 13], [16, 17, 18]]```"
   ]
  },
  {
   "cell_type": "code",
   "execution_count": 8,
   "id": "97b770f2",
   "metadata": {
    "scrolled": true
   },
   "outputs": [
    {
     "name": "stdout",
     "output_type": "stream",
     "text": [
      "[[ 6  7  8]\n",
      " [11 12 13]\n",
      " [16 17 18]]\n"
     ]
    }
   ],
   "source": [
    "#sol(1)\n",
    "mans=[]  \n",
    "F_list = list(F) # remove를 사용하기 위해 F를 list로 만든다\n",
    "\n",
    "for x in M:\n",
    "    for y in x:\n",
    "        mans.append(y)  # M 행렬의 성분들을 mans에 append 해서 list로 만든다!\n",
    "\n",
    "\n",
    "for x in mans.copy():\n",
    "    if x in F_list:\n",
    "        mans.remove(x)  # mans 와 F_list의 값을 비교해서 mans 안에 있는 F_list 값을 삭제\n",
    "\n",
    "mama = np.array(mans)   # list mans를 행렬로 표현하기 위한 작업\n",
    "mama = mama.reshape(3,3)\n",
    "print(mama)\n"
   ]
  },
  {
   "cell_type": "code",
   "execution_count": 9,
   "id": "49902271",
   "metadata": {},
   "outputs": [
    {
     "data": {
      "text/plain": [
       "array([[ 6,  7,  8],\n",
       "       [11, 12, 13],\n",
       "       [16, 17, 18]])"
      ]
     },
     "execution_count": 9,
     "metadata": {},
     "output_type": "execute_result"
    }
   ],
   "source": [
    "#sol(2)\n",
    "ans = []\n",
    "\n",
    "for i in M:\n",
    "    for t in i:\n",
    "        if t not in F:\n",
    "            ans.append(t)\n",
    "matrix = np.array(ans).reshape(3,3)\n",
    "\n",
    "matrix"
   ]
  },
  {
   "cell_type": "code",
   "execution_count": 10,
   "id": "e31fa154-2660-4f9b-9669-e7f37391a001",
   "metadata": {},
   "outputs": [
    {
     "name": "stdout",
     "output_type": "stream",
     "text": [
      "[[ 6  7  8]\n",
      " [11 12 13]\n",
      " [16 17 18]]\n"
     ]
    }
   ],
   "source": [
    "#sol(3) use list comprehension  \n",
    "flat =[n for row in M for n in row if n not in F]\n",
    "matrix = np.array(flat).reshape(3,3)\n",
    "print(matrix)"
   ]
  },
  {
   "cell_type": "markdown",
   "id": "ab5117b7",
   "metadata": {},
   "source": [
    "#### 5.남은 행렬에 2-3번의 과정을 반복하라. 즉, 남은 행렬의 가장자리 부분을 왼쪽 위에서부터 시계 방향으로 한 바퀴 돌아 선택하여 결과는 ```[6, 7, 8, 13, 18, 17, 16, 11]```"
   ]
  },
  {
   "cell_type": "code",
   "execution_count": 11,
   "id": "08780715",
   "metadata": {},
   "outputs": [
    {
     "data": {
      "text/plain": [
       "array([[ 6,  7,  8],\n",
       "       [11, 12, 13],\n",
       "       [16, 17, 18]])"
      ]
     },
     "execution_count": 11,
     "metadata": {},
     "output_type": "execute_result"
    }
   ],
   "source": [
    "T=mama\n",
    "T"
   ]
  },
  {
   "cell_type": "code",
   "execution_count": 12,
   "id": "7c89ff3a",
   "metadata": {},
   "outputs": [
    {
     "data": {
      "text/plain": [
       "array([ 6,  7,  8, 13, 18, 17, 16, 11])"
      ]
     },
     "execution_count": 12,
     "metadata": {},
     "output_type": "execute_result"
    }
   ],
   "source": [
    "n = T.shape[0] \n",
    "m = T.shape[1] \n",
    "\n",
    "A1 = T[0, 0:m]\n",
    "\n",
    "B1 = T[1:n-1,m-1]\n",
    "\n",
    "a1 = T[n-1,0:m]\n",
    "C1 = a1[::-1]\n",
    "\n",
    "a2 = T[1:n-1,0]\n",
    "D1 = a2[::-1]\n",
    "\n",
    "F1 = np.r_[A1, B1, C1, D1]\n",
    "F1"
   ]
  },
  {
   "cell_type": "markdown",
   "id": "ae5a8f49",
   "metadata": {},
   "source": [
    "#### 6. ```.reshape(-1)```을 이용하여 ```n by 1``` 혹은 ```1 by m``` 의 2차원 array를 1차원 array로 바꿀 수 있음을 확인하라. 몇 가지 예제로 테스트해 보라."
   ]
  },
  {
   "cell_type": "code",
   "execution_count": 13,
   "id": "85a4394e",
   "metadata": {},
   "outputs": [
    {
     "data": {
      "text/plain": [
       "array([1, 2, 3, 4])"
      ]
     },
     "execution_count": 13,
     "metadata": {},
     "output_type": "execute_result"
    }
   ],
   "source": [
    "a = np.array([[1,2,3,4]]) \n",
    "\n",
    "#x.reshape(-1)은 x.reshape(1, -1)과 같이 1차원 배열을 반환.\n",
    "\n",
    "a.reshape(-1)"
   ]
  },
  {
   "cell_type": "code",
   "execution_count": 14,
   "id": "674330ce",
   "metadata": {},
   "outputs": [
    {
     "data": {
      "text/plain": [
       "array([1, 2, 3])"
      ]
     },
     "execution_count": 14,
     "metadata": {},
     "output_type": "execute_result"
    }
   ],
   "source": [
    "b = np.array([[1],\n",
    "              [2],\n",
    "              [3]])\n",
    "b.reshape(-1)"
   ]
  },
  {
   "cell_type": "markdown",
   "id": "724a2521",
   "metadata": {},
   "source": [
    "#### 7. 위에서 학습한 내용과 반복문을 이용하여, 임의의 ```n by m```2차원 array에 대해 다음의 결과에 해당하는 1-d array를 찾는 코드를 작성하라"
   ]
  },
  {
   "attachments": {
    "image.png": {
     "image/png": "[encoded data removed]"
    }
   },
   "cell_type": "markdown",
   "id": "7c366a5f",
   "metadata": {},
   "source": [
    "![image.png](attachment:image.png)"
   ]
  },
  {
   "cell_type": "code",
   "execution_count": 15,
   "id": "f4b00403",
   "metadata": {},
   "outputs": [
    {
     "data": {
      "text/plain": [
       "array([[ 0,  1,  2,  3,  4],\n",
       "       [ 5,  6,  7,  8,  9],\n",
       "       [10, 11, 12, 13, 14],\n",
       "       [15, 16, 17, 18, 19]])"
      ]
     },
     "execution_count": 15,
     "metadata": {},
     "output_type": "execute_result"
    }
   ],
   "source": [
    "M = np.arange(20).reshape(4,5)\n",
    "M"
   ]
  },
  {
   "cell_type": "markdown",
   "id": "b97c9d4e-d4b4-4829-a7dc-9c67bbc86829",
   "metadata": {},
   "source": [
    "### 풀이\n",
    "1. 전체 행렬을 4개의 파트로 나누어서 반복문을 돌린다.\n",
    "    ex) 0-4, 9-4, 19-15, 10-5\n",
    "2. 첫 번째 반복문이 끝나면 4개의 파트로 추출하면 성분들 ```np.r_```로 합친다.\n",
    "3. 합친 성분들을 리스트를 만들고(append를 이용하기 위해 ) 빈 리스트 ```chosen```에 ```append``` 한다.\n",
    "4. 반복문이 끝날 때 마다 ```counter```를 증가시키고 2번째 set를 뽑기 위해 ```counter```를 적절히 빼고 더한다.\n",
    "5. ```if row - counter *2 > 1 and column - counter *2 > 1``` 이렇게 해당 행렬의 row 와 column에 따라 반복을 얼마나 할 지 정함.\n",
    "6. 위에 해당하지 않는 성분은 ```4번```에 썼던 풀이를 이용하여 따로 추출.  -> 남은 성분\n",
    "7. 남은 성분도 ```notchosen```이란 빈 리스트에 ```append```해서 1-d array로 만듦.\n",
    "8. 낭은 성분은 row와 column의 수에 따라 ```reshape```을 어떻게 할 지 설정.\n",
    "9. 마지막으로 리스트였던 ```chosen```과 ```notchosen```을 ```np.r_```로 합쳐서 출력.\n"
   ]
  },
  {
   "cell_type": "code",
   "execution_count": 16,
   "id": "68d332e3",
   "metadata": {},
   "outputs": [],
   "source": [
    "def snake(ma):\n",
    "    row = ma.shape[0]   # 행\n",
    "    column = ma.shape[-1]  # 열\n",
    "    counter = 0   \n",
    "    chsoen = []\n",
    "    while True:\n",
    "        if row - counter *2 > 1 and column - counter *2 > 1 :\n",
    "\n",
    "            if column - counter * 2 > 1 :\n",
    "                A = ma[counter, counter : column - counter]\n",
    "\n",
    "            if row - counter * 2 > 1:\n",
    "                B = ma[1 + counter : row - 1 - counter, column - 1 - counter]\n",
    "\n",
    "            if column - counter * 2 > 1:\n",
    "                a = ma[row - 1 - counter, 0 + counter : column - counter]\n",
    "                C = a[::-1]\n",
    "\n",
    "            if row - counter * 2 > 1:\n",
    "                b = ma[1 + counter : row - 1 - counter, 0 + counter]\n",
    "                D = b[::-1]  \n",
    "\n",
    "\n",
    "            G = np.r_[A, B, C, D]\n",
    "            G_list = list(G)\n",
    "            chsoen.append(G_list)\n",
    "\n",
    "            counter = counter + 1\n",
    "        else:\n",
    "            break\n",
    "\n",
    "    result = [] \n",
    "    for q in chsoen:\n",
    "        for w in q:\n",
    "            result.append(w)\n",
    "\n",
    "    mat=np.array(result)  \n",
    "\n",
    "    notchsoen = []   # 4번 문제 이용\n",
    "    for i in ma:\n",
    "        for t in i:\n",
    "            if t not in mat:\n",
    "                notchsoen.append(t) \n",
    "\n",
    "    if row > column:\n",
    "        matrix = np.array(notchsoen).reshape(-1, 1)   # row와 column의 개수에 따라 남는 행렬의 케이스 분류\n",
    "        mat2 = matrix.reshape(-1)\n",
    "        final = np.r_[mat, mat2] \n",
    "        \n",
    "    elif row < column:\n",
    "        matrix = np.array(notchsoen).reshape(1, -1)\n",
    "        mat2 = matrix.reshape(-1)\n",
    "        final=np.r_[mat, mat2]\n",
    "\n",
    "    elif row % 2 == 0 and column % 2 == 0:\n",
    "        final = mat\n",
    "\n",
    "    else:\n",
    "        if row == column:\n",
    "            matrix = np.array(notchsoen).reshape(1, 1)\n",
    "            mat2 = matrix.reshape(-1)\n",
    "            final = np.r_[mat, mat2]\n",
    "            \n",
    "    return final\n"
   ]
  },
  {
   "cell_type": "code",
   "execution_count": 17,
   "id": "01a8432a",
   "metadata": {},
   "outputs": [
    {
     "name": "stdout",
     "output_type": "stream",
     "text": [
      "[ 0.  1.  2.  3.  4.  9. 14. 19. 18. 17. 16. 15. 10.  5.  6.  7.  8. 13.\n",
      " 12. 11.]\n"
     ]
    }
   ],
   "source": [
    "print(snake(M))"
   ]
  },
  {
   "cell_type": "code",
   "execution_count": 18,
   "id": "d53c4593",
   "metadata": {},
   "outputs": [
    {
     "name": "stdout",
     "output_type": "stream",
     "text": [
      "[[ 0  1  2  3  4]\n",
      " [ 5  6  7  8  9]\n",
      " [10 11 12 13 14]\n",
      " [15 16 17 18 19]\n",
      " [20 21 22 23 24]\n",
      " [25 26 27 28 29]]\n",
      "1-d array [ 0  1  2  3  4  9 14 19 24 29 28 27 26 25 20 15 10  5  6  7  8 13 18 23\n",
      " 22 21 16 11 12 17]\n"
     ]
    }
   ],
   "source": [
    "A = np.arange(30).reshape(6,5)\n",
    "print(A)\n",
    "print(\"1-d array\",snake(A))"
   ]
  },
  {
   "cell_type": "code",
   "execution_count": 19,
   "id": "f6f8ac0e",
   "metadata": {},
   "outputs": [
    {
     "name": "stdout",
     "output_type": "stream",
     "text": [
      "[[ 0  1  2  3  4]\n",
      " [ 5  6  7  8  9]\n",
      " [10 11 12 13 14]\n",
      " [15 16 17 18 19]\n",
      " [20 21 22 23 24]\n",
      " [25 26 27 28 29]\n",
      " [30 31 32 33 34]]\n",
      "1-d array [ 0  1  2  3  4  9 14 19 24 29 34 33 32 31 30 25 20 15 10  5  6  7  8 13\n",
      " 18 23 28 27 26 21 16 11 12 17 22]\n"
     ]
    }
   ],
   "source": [
    "B = np.arange(35).reshape(7,5)\n",
    "print(B)\n",
    "print(\"1-d array\",snake(B))"
   ]
  },
  {
   "cell_type": "code",
   "execution_count": 20,
   "id": "58c88456",
   "metadata": {},
   "outputs": [
    {
     "name": "stdout",
     "output_type": "stream",
     "text": [
      "[[ 0  1  2  3  4  5  6]\n",
      " [ 7  8  9 10 11 12 13]\n",
      " [14 15 16 17 18 19 20]\n",
      " [21 22 23 24 25 26 27]\n",
      " [28 29 30 31 32 33 34]]\n",
      "1-d array [ 0  1  2  3  4  5  6 13 20 27 34 33 32 31 30 29 28 21 14  7  8  9 10 11\n",
      " 12 19 26 25 24 23 22 15 16 17 18]\n"
     ]
    }
   ],
   "source": [
    "C = np.arange(35).reshape(5,7)\n",
    "print(C)\n",
    "print(\"1-d array\",snake(C))"
   ]
  },
  {
   "cell_type": "code",
   "execution_count": 21,
   "id": "b9b230f0",
   "metadata": {},
   "outputs": [
    {
     "name": "stdout",
     "output_type": "stream",
     "text": [
      "[[ 0  1  2  3  4  5]\n",
      " [ 6  7  8  9 10 11]\n",
      " [12 13 14 15 16 17]\n",
      " [18 19 20 21 22 23]\n",
      " [24 25 26 27 28 29]\n",
      " [30 31 32 33 34 35]]\n",
      "1-d array [ 0  1  2  3  4  5 11 17 23 29 35 34 33 32 31 30 24 18 12  6  7  8  9 10\n",
      " 16 22 28 27 26 25 19 13 14 15 21 20]\n"
     ]
    }
   ],
   "source": [
    "D = np.arange(36).reshape(6,6)\n",
    "print(D)\n",
    "print(\"1-d array\",snake(D))"
   ]
  }
 ],
 "metadata": {
  "kernelspec": {
   "display_name": "Python 3 (ipykernel)",
   "language": "python",
   "name": "python3"
  },
  "language_info": {
   "codemirror_mode": {
    "name": "ipython",
    "version": 3
   },
   "file_extension": ".py",
   "mimetype": "text/x-python",
   "name": "python",
   "nbconvert_exporter": "python",
   "pygments_lexer": "ipython3",
   "version": "3.10.9"
  }
 },
 "nbformat": 4,
 "nbformat_minor": 5
}
