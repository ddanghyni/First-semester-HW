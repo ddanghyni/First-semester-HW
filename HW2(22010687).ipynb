{
 "cells": [
  {
   "cell_type": "markdown",
   "metadata": {},
   "source": [
    "## 1. 서로 다른 양의 정수 5개를 해로 가지는 5차 방정식"
   ]
  },
  {
   "cell_type": "code",
   "execution_count": 1,
   "metadata": {
    "scrolled": true
   },
   "outputs": [
    {
     "name": "stdout",
     "output_type": "stream",
     "text": [
      "2\n",
      "4\n",
      "5\n",
      "7\n",
      "9\n"
     ]
    }
   ],
   "source": [
    "#1 서로 다른 양의 정수 5개를 해로 가지는 5차 방정식\n",
    "x = 0\n",
    "count = 0\n",
    "\n",
    "while count < 5:\n",
    "\n",
    "    x=x+1\n",
    "    y = x**5 - 27*x**4 + 277*x**3 - 1341*x**2 + 3034*x - 2520\n",
    "    if y==0:\n",
    "        print(x)\n",
    "        count = count + 1 "
   ]
  },
  {
   "cell_type": "markdown",
   "metadata": {},
   "source": [
    "### 문제 1. test"
   ]
  },
  {
   "cell_type": "code",
   "execution_count": 2,
   "metadata": {},
   "outputs": [
    {
     "name": "stdout",
     "output_type": "stream",
     "text": [
      "14\n",
      "17\n",
      "123\n",
      "195\n",
      "211\n"
     ]
    }
   ],
   "source": [
    "#1 test\n",
    "x = 0\n",
    "count = 0\n",
    "\n",
    "while count < 5:\n",
    "\n",
    "    x=x+1\n",
    "    y = x**5 - 560*x**4 + 107720*x**3 - 8010310*x**2 + 178563639*x - 1204478730\n",
    "    if y==0:\n",
    "        print(x)\n",
    "        count = count + 1\n",
    "        "
   ]
  },
  {
   "cell_type": "markdown",
   "metadata": {},
   "source": [
    "## 2. 0이 아닌 서로 다른 정수 5개를 해로 가지는 5차 방정식"
   ]
  },
  {
   "cell_type": "code",
   "execution_count": 16,
   "metadata": {
    "scrolled": true
   },
   "outputs": [
    {
     "name": "stdout",
     "output_type": "stream",
     "text": [
      "1\n",
      "-1\n",
      "2\n",
      "5\n",
      "-6\n"
     ]
    }
   ],
   "source": [
    "#2. 0이 아닌 서로 다른 정수 5개를 해로 가지는 5차 방정식\n",
    "x = 0\n",
    "count = 0\n",
    "while count < 5:\n",
    "    if x > 0:\n",
    "        x = -x\n",
    "    else:\n",
    "        x = -x + 1  # 범위 설정 없이 음을 포함한 정수 출력.\n",
    "   \n",
    "    y = x**5 - x**4 - 33*x**3 + 61*x**2 + 32*x - 60\n",
    "    if y==0:\n",
    "        print(x)\n",
    "        \n",
    "        count = count + 1\n"
   ]
  },
  {
   "cell_type": "markdown",
   "metadata": {},
   "source": [
    "## 3. 0이 아닌 서로 다른 정수 5개를 해로 가지는 5차 방정식(2)"
   ]
  },
  {
   "cell_type": "code",
   "execution_count": 17,
   "metadata": {},
   "outputs": [
    {
     "name": "stdout",
     "output_type": "stream",
     "text": [
      "x**5 - 143*x**4 - 68002*x**3 - 3173548*x**2 + 121524312*x + 5846531040\n"
     ]
    }
   ],
   "source": [
    "#3. 0이 아닌 서로 다른 정수 5개를 해로 가지는 5차 방정식(2)\n",
    "\n",
    "import sympy\n",
    "import random\n",
    "x = sympy.Symbol(\"x\")\n",
    "\n",
    "c = 0\n",
    "a = int(random.gauss(0, 200))\n",
    "while a == 0:\n",
    "    a = int(random.gauss(0, 200))\n",
    "b = int(random.gauss(0, 200))\n",
    "while b == 0 or b == a:\n",
    "    b = int(random.gauss(0, 200))\n",
    "c = int(random.gauss(0, 200))\n",
    "while c == 0 or c == a or c == b:\n",
    "    c = int(random.gauss(0, 200))\n",
    "d = int(random.gauss(0, 200))\n",
    "while d == 0 & d == a & d == b & d == c:\n",
    "    d = int(random.gauss(0, 200))\n",
    "e = int(random.gauss(0, 200))\n",
    "while e == 0 & e == a & e == b & e == c & e == d:\n",
    "    e = int(random.gauss(0, 200))\n",
    "    \n",
    "expr = (x - a)*(x - b)*(x - c)*(x - d)*(x - e)\n",
    "print(expr.expand())\n",
    "f = sympy.lambdify(x, expr)\n",
    "\n",
    "\n",
    "\n"
   ]
  },
  {
   "cell_type": "code",
   "execution_count": 18,
   "metadata": {},
   "outputs": [
    {
     "name": "stdout",
     "output_type": "stream",
     "text": [
      "-38\n",
      "42\n",
      "-70\n",
      "-147\n",
      "356\n"
     ]
    }
   ],
   "source": [
    "#3.\n",
    "\n",
    "x = 0\n",
    "count = 0\n",
    "while count < 5:\n",
    "    if x > 0:\n",
    "        x = -x\n",
    "    else:\n",
    "        x = -x + 1  # 범위 설정 없이 음을 포함한 정수 출력.\n",
    "   \n",
    "    y = f(x)\n",
    "    if y==0:\n",
    "        print(x)\n",
    "        count = count + 1"
   ]
  },
  {
   "cell_type": "markdown",
   "metadata": {},
   "source": [
    "## 4. 정수의 해를 가지는 연립방정식"
   ]
  },
  {
   "cell_type": "code",
   "execution_count": 28,
   "metadata": {},
   "outputs": [
    {
     "name": "stdout",
     "output_type": "stream",
     "text": [
      "12 -5.0\n"
     ]
    }
   ],
   "source": [
    "#4. 정수의 해를 가지는 연립방정식\n",
    "x = 0\n",
    "while True:\n",
    "    if x > 0:\n",
    "        x = -x\n",
    "    else:\n",
    "        x = -x + 1 # 범위 설정 없이 음을 포함한 정수 출력.\n",
    "        \n",
    "    y = (29 -7*x)/11  # 7x + 11y =29\n",
    "    \n",
    "    if y % 1 == 0:    # 정수 y만 받기\n",
    "        if 13*x + 19*y == 61:\n",
    "            print(x,y)\n",
    "            break\n",
    "        \n",
    "    "
   ]
  },
  {
   "cell_type": "markdown",
   "metadata": {},
   "source": [
    "### 문제 4. test"
   ]
  },
  {
   "cell_type": "code",
   "execution_count": 30,
   "metadata": {},
   "outputs": [
    {
     "name": "stdout",
     "output_type": "stream",
     "text": [
      "1000 -917.0\n"
     ]
    }
   ],
   "source": [
    "# test\n",
    "x = 0\n",
    "while True:\n",
    "    if x > 0:\n",
    "        x = -x\n",
    "    else:\n",
    "        x = -x + 1         # 범위 설정 없이 음을 포함한 정수 출력.\n",
    "\n",
    "    y = ( -87 - 10*x )/11  #10x +11y=-87\n",
    "    \n",
    "    if y % 1 == 0:         # 정수 y만 받기\n",
    "        if -4*x - 5*y == 585:\n",
    "            print(x,y)\n",
    "            break"
   ]
  }
 ],
 "metadata": {
  "kernelspec": {
   "display_name": "Python 3 (ipykernel)",
   "language": "python",
   "name": "python3"
  },
  "language_info": {
   "codemirror_mode": {
    "name": "ipython",
    "version": 3
   },
   "file_extension": ".py",
   "mimetype": "text/x-python",
   "name": "python",
   "nbconvert_exporter": "python",
   "pygments_lexer": "ipython3",
   "version": "3.10.9"
  }
 },
 "nbformat": 4,
 "nbformat_minor": 2
}
