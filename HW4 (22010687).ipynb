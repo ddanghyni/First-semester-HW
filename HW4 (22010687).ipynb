{
 "cells": [
  {
   "cell_type": "markdown",
   "id": "82cb1acc",
   "metadata": {},
   "source": [
    "# HW4 \n",
    "    통계학과 20학번 김상현 (22010687)"
   ]
  },
  {
   "cell_type": "code",
   "execution_count": 5,
   "id": "b4181baf",
   "metadata": {},
   "outputs": [],
   "source": [
    "import numpy as np\n",
    "import colorama\n",
    "\n",
    "def print_colored_matrix(M):\n",
    "    stringM = \"\"\n",
    "    num_rows, num_cols = M.shape\n",
    "    \n",
    "    for n in range(num_cols):\n",
    "        for m in range(num_rows):\n",
    "            str_member = f'{colorama.Fore.BLACK}{str(M[m,n])}'\n",
    "            if M[m,n] <= -10: \n",
    "                sep = \" \"\n",
    "                str_member = f'{colorama.Fore.RED}{str(M[m,n])}'\n",
    "            elif M[m,n] < 0:\n",
    "                sep = \"  \"\n",
    "                str_member = f'{colorama.Fore.RED}{str(M[m,n])}'\n",
    "            elif M[m,n] < 10: sep = \"   \"\n",
    "            else: sep = \"  \"\n",
    "            stringM = stringM + sep + str_member \n",
    "        if n < num_cols - 1: stringM = stringM + \"\\n\"\n",
    "    print(stringM)\n",
    "    print('\\033[0m')"
   ]
  },
  {
   "cell_type": "markdown",
   "id": "7780c702",
   "metadata": {},
   "source": [
    "# 1.\n",
    "\n",
    "아래 numpy array ```A```를 ```print_colored_matrix``` 함수를 이용하여 출력해 보라."
   ]
  },
  {
   "cell_type": "code",
   "execution_count": 28,
   "id": "6b6b19c9",
   "metadata": {
    "scrolled": true
   },
   "outputs": [
    {
     "name": "stdout",
     "output_type": "stream",
     "text": [
      "[[ -1  -2  -3  -4  -5]\n",
      " [ -6  -7   8  -9  10]\n",
      " [-11 -12 -13 -14  15]\n",
      " [-16 -17 -18 -19  20]\n",
      " [-21  22  23 -24 -25]]\n",
      "  \u001b[31m-1  \u001b[31m-6 \u001b[31m-11 \u001b[31m-16 \u001b[31m-21\n",
      "  \u001b[31m-2  \u001b[31m-7 \u001b[31m-12 \u001b[31m-17  \u001b[30m22\n",
      "  \u001b[31m-3   \u001b[30m8 \u001b[31m-13 \u001b[31m-18  \u001b[30m23\n",
      "  \u001b[31m-4  \u001b[31m-9 \u001b[31m-14 \u001b[31m-19 \u001b[31m-24\n",
      "  \u001b[31m-5  \u001b[30m10  \u001b[30m15  \u001b[30m20 \u001b[31m-25\n",
      "\u001b[0m\n"
     ]
    }
   ],
   "source": [
    "A = np.array([[-1, -2, -3, -4, -5],\n",
    "              [-6, -7, 8, -9, 10],\n",
    "              [-11, -12, -13, -14, 15],\n",
    "              [-16, -17, -18, -19, 20],\n",
    "              [-21, 22, 23, -24, -25]])\n",
    "print(A)\n",
    "print_colored_matrix(A)"
   ]
  },
  {
   "cell_type": "markdown",
   "id": "eae9fee9",
   "metadata": {},
   "source": [
    "# 2.\n",
    "```A```의 왼쪽 위에서 오른쪽 아래로 내려가는 대각선의 값들이 모두 음수인지 체크하는 코드를 작성하라. 모두 음수이면 ```True```로 체크한다. 마찬가지로 ```A```의 왼쪽 아래에서 오른쪽 위로 올라가는 대각선의 값들이 모두 음수인지 체크하는 코드를 작성하라."
   ]
  },
  {
   "cell_type": "markdown",
   "id": "213f18e2",
   "metadata": {},
   "source": [
    "###### (1) 왼쪽 위에서 오른쪽 아래로 내려가는 대각선 값 음수 체크"
   ]
  },
  {
   "cell_type": "code",
   "execution_count": 29,
   "id": "b8226bd0",
   "metadata": {},
   "outputs": [
    {
     "name": "stdout",
     "output_type": "stream",
     "text": [
      "True\n"
     ]
    }
   ],
   "source": [
    "#sol(1)\n",
    "a=np.diag(A)  \n",
    "ans1 = 0\n",
    "\n",
    "for i in range(len(a)):\n",
    "    if a[i]<0:\n",
    "        ans1 = ans1 + 1\n",
    "    if ans1 == len(a):\n",
    "        print(\"True\")"
   ]
  },
  {
   "cell_type": "code",
   "execution_count": 30,
   "id": "8041b671-8906-466c-9bec-22016d96c7f2",
   "metadata": {},
   "outputs": [
    {
     "data": {
      "text/plain": [
       "True"
      ]
     },
     "execution_count": 30,
     "metadata": {},
     "output_type": "execute_result"
    }
   ],
   "source": [
    "#sol(2)\n",
    "\n",
    "np.all(np.diag(A) < 0)\n"
   ]
  },
  {
   "cell_type": "markdown",
   "id": "62ba0348",
   "metadata": {},
   "source": [
    "###### (2) 왼쪽 아래에서 오른쪽 위로 올라가는 대각선 값 음수 체크"
   ]
  },
  {
   "cell_type": "code",
   "execution_count": 31,
   "id": "f95f3dfa",
   "metadata": {},
   "outputs": [
    {
     "name": "stdout",
     "output_type": "stream",
     "text": [
      "True\n"
     ]
    }
   ],
   "source": [
    "#sol(1) \n",
    "a=np.diag(A[::-1])\n",
    "ans1 = 0\n",
    "\n",
    "for i in range(len(a)):\n",
    "    if a[i]<0:\n",
    "        ans1 = ans1 + 1\n",
    "    if ans1 == len(a):\n",
    "        print(\"True\")"
   ]
  },
  {
   "cell_type": "code",
   "execution_count": 32,
   "id": "e3749b8a-12f7-4512-a846-db298f227cde",
   "metadata": {},
   "outputs": [
    {
     "data": {
      "text/plain": [
       "True"
      ]
     },
     "execution_count": 32,
     "metadata": {},
     "output_type": "execute_result"
    }
   ],
   "source": [
    "#sol(2)\n",
    "\n",
    "np.all(np.diag(A[::-1] < 0))"
   ]
  },
  {
   "cell_type": "markdown",
   "id": "e3615608",
   "metadata": {},
   "source": [
    "# 3.\n",
    "모두 음수로 이루어진 행이나 열이 총 몇 개인지 세는 코드를 작성하라."
   ]
  },
  {
   "cell_type": "code",
   "execution_count": 33,
   "id": "b1daea1d",
   "metadata": {},
   "outputs": [],
   "source": [
    "def count(matrix):\n",
    "    columns=0\n",
    "    rows=0\n",
    "    lenrow = matrix.shape[0] # 행의 크기\n",
    "    lencolumns = matrix.shape[1] # 열의 크기  \n",
    "    \n",
    "    for t in range(lenrow):   \n",
    "        ans = 0\n",
    "        for i in range(lencolumns): \n",
    "            if matrix[t,i] < 0: \n",
    "                ans = ans + 1\n",
    "            if ans == lencolumns:\n",
    "                rows = rows + 1 \n",
    "                \n",
    "    for i in range(lencolumns):\n",
    "        ans = 0\n",
    "        for t in range(lenrow):\n",
    "            if matrix[t,i] < 0:\n",
    "                ans = ans + 1\n",
    "            if ans == lenrow:\n",
    "                columns = columns + 1\n",
    "   \n",
    "    print(\"모두 음수로 이루어진 열의 갯수는\" ,columns,\"개 입니다\") \n",
    "    print(\"모두 음수로 이루어진 행의 갯수는\",rows,\"개 입니다\")\n"
   ]
  },
  {
   "cell_type": "code",
   "execution_count": 34,
   "id": "56cb5090",
   "metadata": {
    "scrolled": true
   },
   "outputs": [
    {
     "name": "stdout",
     "output_type": "stream",
     "text": [
      "모두 음수로 이루어진 열의 갯수는 2 개 입니다\n",
      "모두 음수로 이루어진 행의 갯수는 1 개 입니다\n"
     ]
    }
   ],
   "source": [
    "count(A)"
   ]
  },
  {
   "cell_type": "markdown",
   "id": "98500f3f",
   "metadata": {},
   "source": [
    "# 4.\n",
    "```np.random.choice```를 이용하여, 1이상 25이하 정수가 랜덤으로 구성된 5 by 5 행렬을 만드는 코드를 작성하라. 이렇게 만든 행렬을 ```B```라고 하자."
   ]
  },
  {
   "cell_type": "code",
   "execution_count": 6,
   "id": "b095a4f0",
   "metadata": {
    "scrolled": true
   },
   "outputs": [
    {
     "data": {
      "text/plain": [
       "array([[ 1,  9,  9, 19,  6],\n",
       "       [23,  3, 18, 16, 14],\n",
       "       [11, 12, 12, 11, 21],\n",
       "       [ 2, 22, 16, 25,  8],\n",
       "       [21, 17, 10,  5,  2]])"
      ]
     },
     "execution_count": 6,
     "metadata": {},
     "output_type": "execute_result"
    }
   ],
   "source": [
    "B = np.random.choice(range(1,26),(5,5))\n",
    "B\n"
   ]
  },
  {
   "cell_type": "markdown",
   "id": "c77e0b18",
   "metadata": {},
   "source": [
    "# 5.\n",
    "1부터 25까지 정수로 이루어진 리스트, ```remains```를 만들라. ```remains```에서 숫자 하나를 랜덤으로 선택하여 ```selected```라고 하자. 이 숫자를 ```remains```에서 삭제하는 코드를 작성하라."
   ]
  },
  {
   "cell_type": "code",
   "execution_count": 7,
   "id": "f2f545f5",
   "metadata": {},
   "outputs": [
    {
     "name": "stdout",
     "output_type": "stream",
     "text": [
      "[1, 2, 3, 4, 5, 6, 7, 8, 9, 10, 11, 12, 13, 14, 15, 16, 17, 18, 19, 20, 21, 22, 23, 24, 25]\n",
      "11\n",
      "[1, 2, 3, 4, 5, 6, 7, 8, 9, 10, 12, 13, 14, 15, 16, 17, 18, 19, 20, 21, 22, 23, 24, 25]\n"
     ]
    }
   ],
   "source": [
    "import random\n",
    "remains = list(range(1,26))\n",
    "print(remains)\n",
    "selected=random.choice(remains)\n",
    "print(selected)\n",
    "remains.remove(selected)\n",
    "print(remains)"
   ]
  },
  {
   "cell_type": "markdown",
   "id": "5b751e0d",
   "metadata": {},
   "source": [
    "# 7.\n",
    "위 과정을 20번 반복하는 코드를 작성하라. 즉, 다음의 과정을 20번 반복하도록 하라.\n",
    "* 위에서 선택된 숫자 ```selected```를 ```B```에서 음수로 만드는 코드를 작성하라. 다음 코드를 참고하라.\n",
    "\n",
    "* ```B[B == selected] = -selected```\n",
    "\n",
    "* ```print_colored_matrix```로 ```B```를 출력하라."
   ]
  },
  {
   "cell_type": "code",
   "execution_count": 17,
   "id": "c5fc7f2a",
   "metadata": {
    "scrolled": true
   },
   "outputs": [
    {
     "name": "stdout",
     "output_type": "stream",
     "text": [
      "선택 받지 못한 숫자들:\n",
      "[3, 4, 13, 19, 23]\n",
      "음수로 변환할 숫자들:\n",
      "[18, 7, 8, 22, 20, 24, 11, 2, 6, 14, 5, 9, 15, 25, 1, 12, 17, 10, 16, 21]\n",
      "colored_matrix 적용한 B:\n",
      "  \u001b[31m-1 \u001b[31m-23 \u001b[31m-11  \u001b[31m-2 \u001b[31m-21\n",
      "  \u001b[31m-9  \u001b[31m-3 \u001b[31m-12 \u001b[31m-22 \u001b[31m-17\n",
      "  \u001b[31m-9 \u001b[31m-18 \u001b[31m-12 \u001b[31m-16 \u001b[31m-10\n",
      " \u001b[31m-19 \u001b[31m-16 \u001b[31m-11 \u001b[31m-25  \u001b[31m-5\n",
      "  \u001b[31m-6 \u001b[31m-14 \u001b[31m-21  \u001b[31m-8  \u001b[31m-2\n",
      "\u001b[0m\n"
     ]
    }
   ],
   "source": [
    "ans=[]\n",
    "remains = list(range(1,26))\n",
    "for _ in range(20):\n",
    "    selected=random.choice(remains)\n",
    "    remains.remove(selected)\n",
    "    B[B == selected] = -selected\n",
    "    ans.append(selected)\n",
    "\n",
    "print(\"선택 받지 못한 숫자들:\")\n",
    "print(remains)\n",
    "print(\"음수로 변환할 숫자들:\")\n",
    "print(ans)\n",
    "print(\"colored_matrix 적용한 B:\")\n",
    "print_colored_matrix(B)"
   ]
  },
  {
   "cell_type": "markdown",
   "id": "ae1dbd1d",
   "metadata": {},
   "source": [
    "# 8.\n",
    "```B```에서 모두 음수로 이루어진 행이나 열, 대각선이 총 몇 개인지 세는 코드를 작성하라."
   ]
  },
  {
   "cell_type": "code",
   "execution_count": 38,
   "id": "7e17d0dc",
   "metadata": {},
   "outputs": [
    {
     "name": "stdout",
     "output_type": "stream",
     "text": [
      "[[-17 -10  16  -3 -11]\n",
      " [ -8 -15 -12  13 -20]\n",
      " [ -4  13  16  16  -9]\n",
      " [ -4  24 -22  -7 -17]\n",
      " [-14  -6 -20 -15 -22]]\n",
      "모두 음수로 이루어진 열의 갯수는 2 개 입니다\n",
      "모두 음수로 이루어진 행의 갯수는 1 개 입니다\n",
      "모두 음수로 이루어진 대각선의 갯수는 0 개 입니다\n"
     ]
    }
   ],
   "source": [
    "def count_1(matrix):\n",
    "    columns=0\n",
    "    rows=0\n",
    "    diagonal_1 = 0\n",
    "    diagonal_2 = 0\n",
    "    lenrow = matrix.shape[0] # 행의 크기\n",
    "    lencolumns = matrix.shape[1] # 열의 크기     \n",
    "\n",
    "\n",
    "    for t in range(lenrow):   \n",
    "        ans = 0\n",
    "        for i in range(lencolumns): \n",
    "            if matrix[t,i] < 0: \n",
    "                ans = ans + 1\n",
    "            if ans == lencolumns:\n",
    "                rows = rows + 1 \n",
    "                \n",
    "    for i in range(lencolumns):\n",
    "        ans = 0\n",
    "        for t in range(lenrow):\n",
    "            if matrix[t,i] < 0:\n",
    "                ans = ans + 1\n",
    "            if ans == lenrow:\n",
    "                columns = columns + 1         \n",
    "\n",
    "    x = np.diag(matrix)\n",
    "    ans = 0\n",
    "    for i in range(len(x)):\n",
    "        if x[i] < 0:\n",
    "            ans = ans + 1\n",
    "        if ans == len(x):\n",
    "            diagonal_1 = diagonal_1 + 1\n",
    "        \n",
    "    y = np.diag(matrix[::-1])\n",
    "    ans = 0\n",
    "    for i in range(len(y)):\n",
    "        if y[i] < 0:\n",
    "            ans = ans + 1\n",
    "        if ans == len(y):\n",
    "            diagonal_2 = diagonal_2 + 1\n",
    "            \n",
    "    diagonal = diagonal_1 + diagonal_2\n",
    "    \n",
    "    print(matrix)\n",
    "    print(\"모두 음수로 이루어진 열의 갯수는\" ,columns,\"개 입니다\") \n",
    "    print(\"모두 음수로 이루어진 행의 갯수는\",rows,\"개 입니다\")\n",
    "    print(\"모두 음수로 이루어진 대각선의 갯수는\",diagonal,\"개 입니다\")\n",
    "\n",
    "\n",
    "count_1(B)"
   ]
  },
  {
   "cell_type": "markdown",
   "id": "bf18091b",
   "metadata": {},
   "source": [
    "# 9.\n",
    "4번부터 8번까지의 내용을 하나의 셀에 작성하여 몇 번 돌려보면서, 코드에 잘못된 점이 없는지 체크해 보라."
   ]
  },
  {
   "cell_type": "code",
   "execution_count": 39,
   "id": "4f813ced",
   "metadata": {},
   "outputs": [
    {
     "name": "stdout",
     "output_type": "stream",
     "text": [
      "생성된 행렬 B:\n",
      "[[15  7  9  1 12]\n",
      " [10  7  8 24  5]\n",
      " [ 8 23 20  4  8]\n",
      " [ 4 25 22 21 19]\n",
      " [21 13 14  7  6]]\n",
      "선택 받지 못한 숫자들:\n",
      "[3, 9, 10, 16, 18]\n",
      "음수로 변환할 숫자들:\n",
      "[19, 7, 14, 24, 22, 15, 20, 12, 4, 1, 25, 11, 13, 8, 6, 17, 23, 5, 21, 2]\n",
      "음수로 변환된 행렬 B:\n",
      "[[-15  -7   9  -1 -12]\n",
      " [ 10  -7  -8 -24  -5]\n",
      " [ -8 -23 -20  -4  -8]\n",
      " [ -4 -25 -22 -21 -19]\n",
      " [-21 -13 -14  -7  -6]]\n",
      "colored_matrix 적용한 B:\n",
      " \u001b[31m-15  \u001b[30m10  \u001b[31m-8  \u001b[31m-4 \u001b[31m-21\n",
      "  \u001b[31m-7  \u001b[31m-7 \u001b[31m-23 \u001b[31m-25 \u001b[31m-13\n",
      "   \u001b[30m9  \u001b[31m-8 \u001b[31m-20 \u001b[31m-22 \u001b[31m-14\n",
      "  \u001b[31m-1 \u001b[31m-24  \u001b[31m-4 \u001b[31m-21  \u001b[31m-7\n",
      " \u001b[31m-12  \u001b[31m-5  \u001b[31m-8 \u001b[31m-19  \u001b[31m-6\n",
      "\u001b[0m\n",
      "모두 음수로 이루어진 열의 갯수는 3 개 입니다\n",
      "모두 음수로 이루어진 행의 갯수는 3 개 입니다\n",
      "모두 음수로 이루어진 대각선의 갯수는 2 개 입니다\n"
     ]
    }
   ],
   "source": [
    "import random\n",
    "import numpy as np\n",
    "\n",
    "B = np.random.choice(range(1,26),(5,5))\n",
    "print(\"생성된 행렬 B:\")\n",
    "print(B)\n",
    "remains = list(range(1,26))\n",
    "ans=[]\n",
    "for _ in range(20):\n",
    "    selected=random.choice(remains)\n",
    "    remains.remove(selected)\n",
    "    B[B == selected] = -selected\n",
    "    ans.append(selected)\n",
    "\n",
    "print(\"선택 받지 못한 숫자들:\")\n",
    "print(remains)\n",
    "print(\"음수로 변환할 숫자들:\")\n",
    "print(ans)\n",
    "print(\"음수로 변환된 행렬 B:\")\n",
    "print(B)\n",
    "print(\"colored_matrix 적용한 B:\")\n",
    "print_colored_matrix(B)\n",
    "\n",
    "def count_1(matrix):\n",
    "    columns=0\n",
    "    rows=0\n",
    "    diagonal_1 = 0\n",
    "    diagonal_2 = 0\n",
    "    lenrow = matrix.shape[0] # 행의 크기\n",
    "    lencolumns = matrix.shape[1] # 열의 크기     \n",
    "\n",
    "\n",
    "    for t in range(lenrow):   \n",
    "        ans = 0\n",
    "        for i in range(lencolumns): \n",
    "            if matrix[t,i] < 0: \n",
    "                ans = ans + 1\n",
    "            if ans == lencolumns:\n",
    "                rows = rows + 1 \n",
    "                \n",
    "    for i in range(lencolumns):\n",
    "        ans = 0\n",
    "        for t in range(lenrow):\n",
    "            if matrix[t,i] < 0:\n",
    "                ans = ans + 1\n",
    "            if ans == lenrow:\n",
    "                columns = columns + 1         \n",
    "\n",
    "    x = np.diag(matrix)\n",
    "    ans = 0\n",
    "    for i in range(len(x)):\n",
    "        if x[i] < 0:\n",
    "            ans = ans + 1\n",
    "        if ans == len(x):\n",
    "            diagonal_1 = diagonal_1 + 1\n",
    "        \n",
    "    y = np.diag(matrix[::-1])\n",
    "    ans = 0\n",
    "    for i in range(len(y)):\n",
    "        if y[i] < 0:\n",
    "            ans = ans + 1\n",
    "        if ans == len(y):\n",
    "            diagonal_2 = diagonal_2 + 1\n",
    "            \n",
    "    diagonal = diagonal_1 + diagonal_2\n",
    "\n",
    "    print(\"모두 음수로 이루어진 열의 갯수는\" ,columns,\"개 입니다\") \n",
    "    print(\"모두 음수로 이루어진 행의 갯수는\",rows,\"개 입니다\")\n",
    "    print(\"모두 음수로 이루어진 대각선의 갯수는\",diagonal,\"개 입니다\")\n",
    "\n",
    "    \n",
    "count_1(B)"
   ]
  }
 ],
 "metadata": {
  "kernelspec": {
   "display_name": "Python 3 (ipykernel)",
   "language": "python",
   "name": "python3"
  },
  "language_info": {
   "codemirror_mode": {
    "name": "ipython",
    "version": 3
   },
   "file_extension": ".py",
   "mimetype": "text/x-python",
   "name": "python",
   "nbconvert_exporter": "python",
   "pygments_lexer": "ipython3",
   "version": "3.10.9"
  }
 },
 "nbformat": 4,
 "nbformat_minor": 5
}
