{
 "cells": [
  {
   "cell_type": "markdown",
   "id": "2c95685f-cb62-4a54-83df-a67f8ffda393",
   "metadata": {},
   "source": [
    "#### 1. 다음의 for 구문을 같은 역할을 하는 while문으로 작성하시오."
   ]
  },
  {
   "cell_type": "code",
   "execution_count": 1,
   "id": "b308d636-3bc1-4bfd-9a29-904c4794eb97",
   "metadata": {},
   "outputs": [
    {
     "name": "stdout",
     "output_type": "stream",
     "text": [
      "2\n",
      "3\n",
      "4\n",
      "5\n"
     ]
    }
   ],
   "source": [
    "for x in range(2, 6):\n",
    "    print(x)"
   ]
  },
  {
   "cell_type": "code",
   "execution_count": 4,
   "id": "37db7736-b48b-4f33-9cca-9618ad3984a0",
   "metadata": {},
   "outputs": [
    {
     "name": "stdout",
     "output_type": "stream",
     "text": [
      "2\n",
      "3\n",
      "4\n",
      "5\n"
     ]
    }
   ],
   "source": [
    "# sol\n",
    "\n",
    "counter = 2\n",
    "\n",
    "while counter < 6:\n",
    "    print(counter)\n",
    "    counter = counter + 1"
   ]
  },
  {
   "cell_type": "markdown",
   "id": "4fe6607c-0696-4a61-a22f-17f2e6fac86f",
   "metadata": {},
   "source": [
    "#### 2. 다음의 for 구문을 같은 역할을 하는 while문으로 작성하시오."
   ]
  },
  {
   "cell_type": "code",
   "execution_count": 7,
   "id": "6a218681-0c0d-4854-9478-00989f94a86a",
   "metadata": {},
   "outputs": [
    {
     "name": "stdout",
     "output_type": "stream",
     "text": [
      "0\n",
      "1\n",
      "0\n",
      "1\n",
      "2\n"
     ]
    }
   ],
   "source": [
    "for i in range(1, 3, 1):   # i -> 1,2\n",
    "    for j in range(i + 1):   # range(2) = 0 ,1 ,range (3) = 0,1,2\n",
    "        print(j)"
   ]
  },
  {
   "cell_type": "code",
   "execution_count": 18,
   "id": "ff03666d-f206-4b88-b4d4-816ee301dc22",
   "metadata": {},
   "outputs": [
    {
     "name": "stdout",
     "output_type": "stream",
     "text": [
      "0\n",
      "1\n",
      "0\n",
      "1\n",
      "2\n"
     ]
    }
   ],
   "source": [
    "#sol(1)\n",
    "i = 0 \n",
    "while  i < 2:\n",
    "    print(i)\n",
    "    i += 1\n",
    "    if i == 2:\n",
    "        i = 0\n",
    "        while i < 3:\n",
    "            print(i)\n",
    "            i +=1  "
   ]
  },
  {
   "cell_type": "code",
   "execution_count": 24,
   "id": "5e12527f-2147-4d6b-8166-11c0e4f652b4",
   "metadata": {},
   "outputs": [
    {
     "name": "stdout",
     "output_type": "stream",
     "text": [
      "0\n",
      "1\n",
      "0\n",
      "1\n",
      "2\n"
     ]
    }
   ],
   "source": [
    "#sol(2)\n",
    "i = 0\n",
    "while i < 2:\n",
    "    print(i)\n",
    "    i += 1\n",
    "i = 0\n",
    "while i < 3:\n",
    "    print(i)\n",
    "    i += 1"
   ]
  },
  {
   "cell_type": "code",
   "execution_count": 11,
   "id": "a1747f59",
   "metadata": {},
   "outputs": [
    {
     "name": "stdout",
     "output_type": "stream",
     "text": [
      "0\n",
      "1\n",
      "0\n",
      "1\n",
      "2\n"
     ]
    }
   ],
   "source": [
    "#sol(3)\n",
    "w = 1\n",
    "v = 0\n",
    "while w < 3:\n",
    "    while v <(w+1):\n",
    "        print(v)\n",
    "        v=v+1\n",
    "    v=0\n",
    "    w=w+1   \n",
    "    \n",
    "        "
   ]
  },
  {
   "cell_type": "markdown",
   "id": "40b5e364-04a9-457f-a67e-dcb52516eca3",
   "metadata": {},
   "source": [
    "#### 3. 1부터 100까지 정수 중 약수의 개수가 5개인 숫자를 모두 찾아 출력하는 프로그램을 작성하라."
   ]
  },
  {
   "cell_type": "code",
   "execution_count": 25,
   "id": "53d97dea-5eb6-4fa6-b38d-d193b5258693",
   "metadata": {},
   "outputs": [
    {
     "name": "stdout",
     "output_type": "stream",
     "text": [
      "16\n",
      "81\n"
     ]
    }
   ],
   "source": [
    "for i in range (1,101):\n",
    "    counter = 0\n",
    "    sum = 0\n",
    "    while counter <= i:\n",
    "        counter += 1\n",
    "        if i % counter == 0:\n",
    "            sum += 1\n",
    "    if sum == 5:\n",
    "        print(i)"
   ]
  },
  {
   "cell_type": "markdown",
   "id": "f5327764-72b8-40ae-af0b-ce6dc77b6a92",
   "metadata": {},
   "source": [
    "#### 4. 문자열 변수 a를 검사하여, 첫 글자와 마지막 글자가 같은지 검사하는 프로그램을 작성하라. 대소문자는 구분하지 않는다."
   ]
  },
  {
   "cell_type": "code",
   "execution_count": 45,
   "id": "260b5ad7-3a8d-481e-b33a-233c63e43dc2",
   "metadata": {},
   "outputs": [
    {
     "name": "stdout",
     "output_type": "stream",
     "text": [
      "첫 글자와 마지막 글자가 같습니다.\n"
     ]
    }
   ],
   "source": [
    "#sol(1)\n",
    "a = \"우영우ㄴㅇ나어ㅏㄴ언어아우\"\n",
    "z= a.lower()\n",
    "index = len(z)\n",
    "x = z[0]\n",
    "y = z[index - 1]\n",
    "\n",
    "if x == y :\n",
    "    print(\"첫 글자와 마지막 글자가 같습니다.\")\n",
    "else :\n",
    "    print(\"첫 글자와 마지막 글자가 다릅니다\")\n"
   ]
  },
  {
   "cell_type": "code",
   "execution_count": 44,
   "id": "e7fd3671-e1c7-4b44-a5ce-670ff9050cc2",
   "metadata": {},
   "outputs": [
    {
     "name": "stdout",
     "output_type": "stream",
     "text": [
      "첫 글자 == 마지막 글자\n"
     ]
    }
   ],
   "source": [
    "#sol(2)\n",
    "a = \"우영우우우영우\"\n",
    "if a[0].lower() == a[-1].lower():    ##[-1] !!!!!!!!!!\n",
    "    print(\"첫 글자 == 마지막 글자\")\n",
    "else :\n",
    "    print(\"첫 글자 != 마지막 글자\")\n",
    "          "
   ]
  },
  {
   "cell_type": "markdown",
   "id": "a7642446-b57a-44d0-9e43-abcbf8d241e5",
   "metadata": {},
   "source": [
    "#### 5. 주어진 문자열 s의 순서가 거꾸로 된 문자열을 생성하는 프로그램을 작성하라."
   ]
  },
  {
   "cell_type": "code",
   "execution_count": 253,
   "id": "721c9655-3153-4c58-8bb4-6ebb868abe13",
   "metadata": {},
   "outputs": [
    {
     "name": "stdout",
     "output_type": "stream",
     "text": [
      "썬이파 는있미재\n"
     ]
    }
   ],
   "source": [
    "s = \"재미있는 파이썬\"\n",
    "s1 = s[::-1]\n",
    "print(s1)"
   ]
  },
  {
   "cell_type": "markdown",
   "id": "5fb74c43-d0e8-4834-b5d8-cfa1ab3f4f2e",
   "metadata": {},
   "source": [
    "#### 6. 주어진 정수 x가 거꾸로 해도 똑같은 parlindrom인지 체크하는 프로그램을 작성하라."
   ]
  },
  {
   "cell_type": "code",
   "execution_count": 255,
   "id": "f22c1962-49b5-4274-a600-ab269beb624e",
   "metadata": {},
   "outputs": [
    {
     "name": "stdout",
     "output_type": "stream",
     "text": [
      " 121\n",
      "parlindrom!\n"
     ]
    }
   ],
   "source": [
    "x = int(input())\n",
    "\n",
    "x1 = str(x)\n",
    "\n",
    "if x1[0] == x1[-1]:\n",
    "    print(\"parlindrom!\")\n",
    "else:\n",
    "    print(\"not parlindrom\")"
   ]
  },
  {
   "cell_type": "markdown",
   "id": "bb8fbecd-613a-490c-8690-37e063e035f0",
   "metadata": {},
   "source": [
    "#### 7. random.sample을 이용하지 않고 random.choice를 이용하여 아래 프로그램과 같은 역할을 하도록 코드를 작성하라. \n",
    "\n"
   ]
  },
  {
   "cell_type": "code",
   "execution_count": 2,
   "id": "c98d1653-1136-4f28-95f1-1c466712e4de",
   "metadata": {},
   "outputs": [
    {
     "data": {
      "text/plain": [
       "[37, 1, 6, 53, 35, 56]"
      ]
     },
     "execution_count": 2,
     "metadata": {},
     "output_type": "execute_result"
    }
   ],
   "source": [
    "import random\n",
    "lottery_nums = range(60)\n",
    "r1 = random.sample(lottery_nums, 6)\n",
    "r1"
   ]
  },
  {
   "cell_type": "code",
   "execution_count": 4,
   "id": "88b9aa2d-8fbb-4acf-8b35-f6541339d486",
   "metadata": {},
   "outputs": [
    {
     "name": "stdout",
     "output_type": "stream",
     "text": [
      "[6, 27, 9, 45, 20, 15]\n"
     ]
    }
   ],
   "source": [
    "#sol\n",
    "num = list(range(1,46))\n",
    "lotto = []\n",
    "i =0\n",
    "while i < 6:   # for _ in range()도 이용 가능할듯\n",
    "    i = i + 1\n",
    "    num1 = random.choice(num)\n",
    "    lotto.append(num1)\n",
    "    num.remove(num1)\n",
    "    \n",
    "print(lotto)"
   ]
  }
 ],
 "metadata": {
  "kernelspec": {
   "display_name": "Python 3 (ipykernel)",
   "language": "python",
   "name": "python3"
  },
  "language_info": {
   "codemirror_mode": {
    "name": "ipython",
    "version": 3
   },
   "file_extension": ".py",
   "mimetype": "text/x-python",
   "name": "python",
   "nbconvert_exporter": "python",
   "pygments_lexer": "ipython3",
   "version": "3.10.9"
  }
 },
 "nbformat": 4,
 "nbformat_minor": 5
}
